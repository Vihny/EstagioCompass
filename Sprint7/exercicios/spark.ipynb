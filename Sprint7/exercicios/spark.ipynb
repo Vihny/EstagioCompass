{
 "cells": [
  {
   "cell_type": "code",
   "execution_count": null,
   "id": "7ab13dab-696f-4b96-a865-6bb998b7499c",
   "metadata": {},
   "outputs": [],
   "source": [
    "from pyspark.sql import SparkSession\n",
    "\n",
    "spark = SparkSession.builder \\\n",
    "    .appName(\"WordCount\") \\\n",
    "    .getOrCreate()\n"
   ]
  },
  {
   "cell_type": "code",
   "execution_count": 3,
   "id": "db5c7575-8f66-4f37-b935-4a9ca52b5bb1",
   "metadata": {
    "scrolled": true
   },
   "outputs": [
    {
     "name": "stdout",
     "output_type": "stream",
     "text": [
      "+----------------------+-----+\n",
      "|word                  |count|\n",
      "+----------------------+-----+\n",
      "|Apresentação          |1    |\n",
      "|Federal               |1    |\n",
      "|esta                  |1    |\n",
      "|sendo                 |1    |\n",
      "|curso                 |1    |\n",
      "|cidade                |1    |\n",
      "|4°                    |1    |\n",
      "|sou                   |1    |\n",
      "|Informação            |1    |\n",
      "|Sprints               |1    |\n",
      "|3.                    |1    |\n",
      "|[Sprint               |6    |\n",
      "|Compass               |1    |\n",
      "|estagio               |1    |\n",
      "|Instituto             |1    |\n",
      "|Carvalho,             |1    |\n",
      "|4](/Sprint4/README.md)|1    |\n",
      "|Conquista.            |1    |\n",
      "|Bahia                 |1    |\n",
      "|e                     |1    |\n",
      "+----------------------+-----+\n",
      "only showing top 20 rows\n",
      "\n"
     ]
    }
   ],
   "source": [
    "from pyspark.sql.functions import explode, split, col\n",
    "\n",
    "file_path = \"/tmp/README.md\"\n",
    "\n",
    "df = spark.read.text(file_path)\n",
    "\n",
    "words = df.select(explode(split(col(\"value\"), \"\\\\s+\")).alias(\"word\"))\n",
    "word_counts = words.groupBy(\"word\").count()\n",
    "\n",
    "word_counts.show(truncate=False)\n"
   ]
  }
 ],
 "metadata": {
  "kernelspec": {
   "display_name": "Python 3 (ipykernel)",
   "language": "python",
   "name": "python3"
  },
  "language_info": {
   "codemirror_mode": {
    "name": "ipython",
    "version": 3
   },
   "file_extension": ".py",
   "mimetype": "text/x-python",
   "name": "python",
   "nbconvert_exporter": "python",
   "pygments_lexer": "ipython3",
   "version": "3.11.6"
  }
 },
 "nbformat": 4,
 "nbformat_minor": 5
}
