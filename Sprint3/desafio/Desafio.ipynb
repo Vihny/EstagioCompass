{
 "cells": [
  {
   "cell_type": "markdown",
   "metadata": {},
   "source": [
    "## Desafio Sprint 3\n",
    "\n",
    "### - Importando as bibliotecas necessárias\n",
    "\n",
    "\n",
    "- Aqui, importamos as bibliotecas pandas e matplotlib que serão usadas para manipulação de dados e visualização de dados, respectivamente.\n"
   ]
  },
  {
   "cell_type": "code",
   "execution_count": null,
   "metadata": {},
   "outputs": [],
   "source": [
    "import pandas as pd \n",
    "import matplotlib.pyplot as plt "
   ]
  },
  {
   "cell_type": "markdown",
   "metadata": {},
   "source": [
    "### 1. Ler o arquivo csv e remover linhas duplicadas\n",
    "\n",
    "- O código lê um arquivo googleplaystore.csv contendo dados da Google Play Store, ordenam esses dados pelo número de reviews em ordem decrescente, removem duplicatas mantendo apenas a primeira entrada de cada aplicativo."
   ]
  },
  {
   "cell_type": "code",
   "execution_count": null,
   "metadata": {},
   "outputs": [],
   "source": [
    "df = pd.read_csv('googleplaystore.csv')\n",
    "df = df.sort_values('Reviews', ascending=False)\n",
    "df = df.drop_duplicates(subset='App', keep='first')\n",
    "df.to_csv('googleplaystore_novo.csv', index=False)\n"
   ]
  },
  {
   "cell_type": "markdown",
   "metadata": {},
   "source": [
    "### 2. Gráfico de barras dos top 5 apps por número de instalações\n",
    "- O código remove vírgulas e sinais de mais da coluna 'Installs', converte seus valores para numéricos substituindo valores inválidos por zero, e seleciona os 5 aplicativos com maior número de instalações. Em seguida, cria um gráfico de barras horizontal para visualizar esses aplicativos."
   ]
  },
  {
   "cell_type": "code",
   "execution_count": null,
   "metadata": {},
   "outputs": [],
   "source": [
    "df['Installs'] = df['Installs'].astype(str).str.replace(',', '')\n",
    "df['Installs'] = df['Installs'].str.replace('+', '')\n",
    "df['Installs'] = pd.to_numeric(df['Installs'], errors='coerce')\n",
    "df['Installs'] = df['Installs'].fillna(0)\n",
    "\n",
    "top5_apps = df.nlargest(5, 'Installs')\n",
    "\n",
    "plt.figure(figsize=(12,6))\n",
    "plt.barh(top5_apps['App'], top5_apps['Installs'], color='skyblue', height=0.4)\n",
    "plt.xlabel('Número de Instalações')\n",
    "plt.ylabel('App')\n",
    "plt.title('Top 5 Apps por Número de Instalação')\n",
    "plt.gca().invert_yaxis()\n",
    "plt.show()\n"
   ]
  },
  {
   "cell_type": "markdown",
   "metadata": {},
   "source": [
    "### 3. Gráfico de pizza das categorias de apps\n",
    "- O código conta a frequência de cada categoria de aplicativos no DataFrame, criando uma série com essas contagens. Em seguida, ele gera um gráfico de pizza para visualizar a distribuição dos aplicativos por categoria e exibe o gráfico."
   ]
  },
  {
   "cell_type": "code",
   "execution_count": null,
   "metadata": {},
   "outputs": [],
   "source": [
    "categorias = df['Category'].value_counts()\n",
    "\n",
    "plt.pie(categorias, labels = categorias.index, radius= 2.3)\n",
    "plt.title('Categorias de Apps', y=1.6)\n",
    "plt.show()"
   ]
  },
  {
   "cell_type": "markdown",
   "metadata": {},
   "source": [
    "### 4. App mais caro\n",
    "- O código substitui \"Free\" por \"0\" na coluna 'Price', remove os sinais de dólar, converte os valores para floats, identifica o aplicativo mais caro e seu preço, e imprime o nome do aplicativo mais caro e seu preço."
   ]
  },
  {
   "cell_type": "code",
   "execution_count": null,
   "metadata": {},
   "outputs": [],
   "source": [
    "df['Price_Num'] = df['Price'].str.replace('Free', '0')\n",
    "df['Price_Num'] = df['Price_Num'].str.replace('$', '')\n",
    "df['Price_Num'] = df['Price_Num'].apply(lambda x: float(x) if x != '' else 0)\n",
    "\n",
    "app_mais_caro = df[df['Price_Num'] == df['Price_Num'].max()]['App'].iloc[0]\n",
    "preco_mais_caro = df['Price_Num'].max()\n",
    "\n",
    "print(f'O app mais caro é: {app_mais_caro} e seu preço é: ${preco_mais_caro}')\n"
   ]
  },
  {
   "cell_type": "markdown",
   "metadata": {},
   "source": [
    "### 5. Número de apps classificados como 'Mature 17+'\n",
    "- Este código conta o número de aplicativos classificados como \"Mature 17+\" na coluna 'Content Rating' e imprime o resultado."
   ]
  },
  {
   "cell_type": "code",
   "execution_count": null,
   "metadata": {},
   "outputs": [],
   "source": [
    "mature_apps = df[df['Content Rating'] == 'Mature 17+'].shape[0]\n",
    "print(f'Número de apps classificados como Mature 17+: {mature_apps}')"
   ]
  },
  {
   "cell_type": "markdown",
   "metadata": {},
   "source": [
    "### 6. Top 10 apps por número de reviews\n",
    "- Este trecho de código converte a coluna 'Reviews' para numérica, identifica os 10 aplicativos com o maior número de avaliações e os imprime juntamente com o número de avaliações correspondente."
   ]
  },
  {
   "cell_type": "code",
   "execution_count": null,
   "metadata": {},
   "outputs": [],
   "source": [
    "df['Reviews'] = pd.to_numeric(df['Reviews'], errors='coerce')\n",
    "top10_reviews = df.nlargest(10, 'Reviews')\n",
    "\n",
    "print('Top 10 Apps por Número de Reviews:')\n",
    "print('-'*60)\n",
    "for index, row in top10_reviews.iterrows():\n",
    "    print(f\"{row['App']:<50} {row['Reviews']}\")\n",
    "print('-'*60)\n"
   ]
  },
  {
   "cell_type": "markdown",
   "metadata": {},
   "source": [
    "### 7. Demais calculos\n",
    "#### 7.1 As 10 categorias com mais apps.\n",
    "- Este trecho de código conta o número de aplicativos em cada categoria, seleciona as 10 categorias com maior contagem e imprime a lista dessas informações com o nome da categoria como índice."
   ]
  },
  {
   "cell_type": "code",
   "execution_count": null,
   "metadata": {},
   "outputs": [],
   "source": [
    "categorias = df['Category'].value_counts()\n",
    "top10_categorias = categorias.nlargest(10)\n",
    "top10_categorias.index.name = 'Categoria --- Quantidade de Apps'\n",
    "\n",
    "print(top10_categorias.to_string())\n"
   ]
  },
  {
   "cell_type": "markdown",
   "metadata": {},
   "source": [
    "#### 7.2 Quantidade de Apps com Classificação 5.0\n",
    "- Esse código conta o número de aplicativos com classificação 5.0 na coluna 'Rating' e imprime o valor."
   ]
  },
  {
   "cell_type": "code",
   "execution_count": null,
   "metadata": {},
   "outputs": [],
   "source": [
    "num_apps = df[df['Rating'] == 5.0].shape[0]\n",
    "print(f'O número de apps com classificação 5.0 é: {num_apps}')"
   ]
  },
  {
   "cell_type": "markdown",
   "metadata": {},
   "source": [
    "### 8. Demais Gráficos\n",
    "\n",
    "#### 8.1 Grafico de Linhas: Número de Atualizações por Ano\n",
    "- Este código analisa a data de atualização dos dados, extrai o ano e conta as atualizações por ano. Em seguida, ele cria um gráfico de linha mostrando o número de atualizações por ano."
   ]
  },
  {
   "cell_type": "code",
   "execution_count": null,
   "metadata": {},
   "outputs": [],
   "source": [
    "df['Last Updated'] = pd.to_datetime(df['Last Updated'])\n",
    "df['Year'] = df['Last Updated'].dt.year\n",
    "updates_per_year = df.groupby('Year').size()\n",
    "\n",
    "plt.figure(figsize=(10, 6))\n",
    "plt.plot(updates_per_year.index, updates_per_year.values,\n",
    "         color='blue', linestyle='-', marker='o')\n",
    "plt.title('Número de Atualizações por Ano')\n",
    "plt.xlabel('Ano')\n",
    "plt.ylabel('Número de Atualizações')\n",
    "plt.grid(True)\n",
    "plt.show()\n"
   ]
  },
  {
   "cell_type": "markdown",
   "metadata": {},
   "source": [
    "#### 8.2 Gráfico de Dispersão: Reviews vs. Número de Instalações\n",
    "-  Este trecho de código está criando um gráfico de dispersão para visualizar a relação entre o número de reviews e o número de instalações."
   ]
  },
  {
   "cell_type": "code",
   "execution_count": null,
   "metadata": {},
   "outputs": [],
   "source": [
    "plt.rcParams.update({'font.size': 12})\n",
    "plt.figure(figsize=(15, 7))  \n",
    "plt.scatter(df['Reviews'], df['Installs'], alpha=0.5) \n",
    "plt.title('Dispersão: Reviews vs. Número de Instalações')  \n",
    "plt.xlabel('Número de Reviews')\n",
    "plt.ylabel('Número de Instalações')\n",
    "plt.grid(True)\n",
    "plt.show()\n"
   ]
  }
 ],
 "metadata": {
  "kernelspec": {
   "display_name": "Python 3",
   "language": "python",
   "name": "python3"
  },
  "language_info": {
   "codemirror_mode": {
    "name": "ipython",
    "version": 3
   },
   "file_extension": ".py",
   "mimetype": "text/x-python",
   "name": "python",
   "nbconvert_exporter": "python",
   "pygments_lexer": "ipython3",
   "version": "3.11.7"
  }
 },
 "nbformat": 4,
 "nbformat_minor": 2
}
